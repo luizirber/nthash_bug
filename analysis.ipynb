{
 "cells": [
  {
   "cell_type": "code",
   "execution_count": 1,
   "metadata": {},
   "outputs": [
    {
     "name": "stdout",
     "output_type": "stream",
     "text": [
      "g++ -O3 -I. nt_opt.cpp -o nt_opt\n",
      "g++ -O3 -I. nt_article.cpp -o nt_article\n",
      "\u001b[01m\u001b[Knt_article.cpp:\u001b[m\u001b[K In function ‘\u001b[01m\u001b[Kuint64_t h(char)\u001b[m\u001b[K’:\n",
      "\u001b[01m\u001b[Knt_article.cpp:22:1:\u001b[m\u001b[K \u001b[01;35m\u001b[Kwarning: \u001b[m\u001b[Kcontrol reaches end of non-void function [\u001b[01;35m\u001b[K-Wreturn-type\u001b[m\u001b[K]\n",
      " \u001b[01;35m\u001b[K}\u001b[m\u001b[K\n",
      " \u001b[01;35m\u001b[K^\u001b[m\u001b[K\n",
      "\u001b[01m\u001b[Knt_article.cpp:\u001b[m\u001b[K In function ‘\u001b[01m\u001b[Kuint64_t rc(char)\u001b[m\u001b[K’:\n",
      "\u001b[01m\u001b[Knt_article.cpp:39:1:\u001b[m\u001b[K \u001b[01;35m\u001b[Kwarning: \u001b[m\u001b[Kcontrol reaches end of non-void function [\u001b[01;35m\u001b[K-Wreturn-type\u001b[m\u001b[K]\n",
      " \u001b[01;35m\u001b[K}\u001b[m\u001b[K\n",
      " \u001b[01;35m\u001b[K^\u001b[m\u001b[K\n"
     ]
    }
   ],
   "source": [
    "!make"
   ]
  },
  {
   "cell_type": "code",
   "execution_count": 2,
   "metadata": {},
   "outputs": [
    {
     "name": "stdout",
     "output_type": "stream",
     "text": [
      "./nt_opt TGCAG\n",
      "NT64C 0x0bafa6628fc6dab7\n",
      "fhVal 0x0bafa6628fc6dab7\n",
      "rhVal 0x8cf2d41f2cca4802\n",
      "./nt_article TGCAG\n",
      "NT64C 0x0bafa6728fc6dabf\n",
      "fhVal 0x0bafa6728fc6dabf\n",
      "rhVal 0x8cf2d4072cca480e\n",
      "python nthash.py TGCAG\n",
      "NTC64 0x0bafa6728fc6dabf\n",
      "fhVal 0x0bafa6728fc6dabf\n",
      "rhVal 0x8cf2d4072cca480e\n",
      "cargo run -q TGCAG\n",
      "NT64C 0x0bafa6728fc6dabf\n",
      "fhVal 0x0bafa6728fc6dabf\n",
      "rhVal 0x8cf2d4072cca480e\n"
     ]
    }
   ],
   "source": [
    "!make test"
   ]
  },
  {
   "cell_type": "code",
   "execution_count": 3,
   "metadata": {},
   "outputs": [
    {
     "name": "stdout",
     "output_type": "stream",
     "text": [
      "NT64C 0x01542d2a1299ba7e\n",
      "fhVal 0x9b5384ab1b0279a4\n",
      "rhVal 0x01542d2a1299ba7e\n",
      "NT64C 0x01542d341299ba71\n",
      "fhVal 0x9b5384bf1b0279ae\n",
      "rhVal 0x01542d341299ba71\n",
      "NTC64 0x01542d341299ba71\n",
      "fhVal 0x9b5384bf1b0279ae\n",
      "rhVal 0x01542d341299ba71\n",
      "NT64C 0x01542d341299ba71\n",
      "fhVal 0x9b5384bf1b0279ae\n",
      "rhVal 0x01542d341299ba71\n"
     ]
    }
   ],
   "source": [
    "%%bash -l\n",
    "./nt_opt AAAAA\n",
    "./nt_article AAAAA\n",
    "python nthash.py AAAAA\n",
    "cargo run -q AAAAA"
   ]
  },
  {
   "cell_type": "code",
   "execution_count": null,
   "metadata": {},
   "outputs": [],
   "source": []
  }
 ],
 "metadata": {
  "kernelspec": {
   "display_name": "Python 3",
   "language": "python",
   "name": "python3"
  },
  "language_info": {
   "codemirror_mode": {
    "name": "ipython",
    "version": 3
   },
   "file_extension": ".py",
   "mimetype": "text/x-python",
   "name": "python",
   "nbconvert_exporter": "python",
   "pygments_lexer": "ipython3",
   "version": "3.7.0"
  }
 },
 "nbformat": 4,
 "nbformat_minor": 2
}
